{
 "cells": [
  {
   "cell_type": "markdown",
   "id": "e02ea8b9-2a55-4ce5-b193-84f6a378f98e",
   "metadata": {},
   "source": [
    "#### Our goal is to code a new kind of Web Browser. Give it a URL, and it will respond with a summary. The Reader's Digest of the internet!!\n",
    "\n"
   ]
  },
  {
   "cell_type": "markdown",
   "id": "cd7806ac-46dd-4cf2-b6ee-de6f5ac2cfcd",
   "metadata": {},
   "source": [
    "Prerequisites:\n",
    "\n",
    "1. Create and OpenAI apikey from https://platform.openai.com/\n",
    "2. store the apikey under .env\n",
    "3. create ba python virtual environment "
   ]
  },
  {
   "cell_type": "code",
   "execution_count": 60,
   "id": "8da0e552-f107-43a0-af5a-3da4414735ab",
   "metadata": {},
   "outputs": [],
   "source": [
    "# Importing the required libraries\n",
    "\n",
    "import os\n",
    "import requests\n",
    "from bs4 import BeautifulSoup\n",
    "from IPython.display import Markdown, display\n",
    "from openai import OpenAI\n",
    "from dotenv import load_dotenv"
   ]
  },
  {
   "cell_type": "code",
   "execution_count": 3,
   "id": "a321bb05-e7eb-449c-b4b3-876ef52f4b24",
   "metadata": {},
   "outputs": [],
   "source": [
    "# Loading the environment variable\n",
    "load_dotenv(override=True)\n",
    "api_key=os.getenv(\"OPENAI_API_KEY\")"
   ]
  },
  {
   "cell_type": "code",
   "execution_count": 4,
   "id": "424202bc-629a-4b63-8f8f-5511d9da74f7",
   "metadata": {},
   "outputs": [
    {
     "name": "stdout",
     "output_type": "stream",
     "text": [
      "API key found and looks good so far!\n"
     ]
    }
   ],
   "source": [
    "# Checking the API_KEY\n",
    "\n",
    "if not api_key:\n",
    "    print(\"No API Key found- Please generate an api_key and store in .env\")\n",
    "elif not api_key.startswith(\"sk-proj-\"):\n",
    "    print(\"An API key was found, but it doesn't start sk-proj-; please check you're using the right key\")\n",
    "elif api_key.strip() != api_key:\n",
    "    print(\"There are spaces at the start or end of the API key, please resolve\")\n",
    "else:\n",
    "    print(\"API key found and looks good so far!\")"
   ]
  },
  {
   "cell_type": "code",
   "execution_count": 61,
   "id": "1f9f1e53-b482-4097-8846-916f0d0acd92",
   "metadata": {},
   "outputs": [],
   "source": [
    "# Initialising OpenAI\n",
    "openai=OpenAI()"
   ]
  },
  {
   "cell_type": "code",
   "execution_count": 8,
   "id": "3971fe08-e8c5-46f4-901f-0f89ad0484ed",
   "metadata": {},
   "outputs": [],
   "source": [
    "# Calling out openai for preview\n",
    "message=\"Hello GPT this is Vaman, just saying HI to you\"\n",
    "response=openai.chat.completions.create(model=\"gpt-4o-mini\", messages=[{\"role\": \"user\", \"content\":message}])\n"
   ]
  },
  {
   "cell_type": "code",
   "execution_count": 21,
   "id": "f2e68946-05f5-42e1-9f7b-7cf254d53f6a",
   "metadata": {},
   "outputs": [
    {
     "name": "stdout",
     "output_type": "stream",
     "text": [
      "Hello Vaman! It's great to hear from you. How can I assist you today?\n"
     ]
    }
   ],
   "source": [
    "print(response.choices[0].message.content)"
   ]
  },
  {
   "cell_type": "code",
   "execution_count": 37,
   "id": "fae5c4a2-f640-4cdb-bc9b-df30f50807f3",
   "metadata": {},
   "outputs": [],
   "source": [
    "# Some websites need you to use proper headers when fetching them:\n",
    "headers = {\n",
    " \"User-Agent\": \"Mozilla/5.0 (Windows NT 10.0; Win64; x64) AppleWebKit/537.36 (KHTML, like Gecko) Chrome/117.0.0.0 Safari/537.36\"\n",
    "}\n",
    "\n",
    "class Website:\n",
    "    url: str\n",
    "    title:str\n",
    "    text: str\n",
    "\n",
    "    def __init__(self, url):\n",
    "        self.url=url\n",
    "        response=requests.get(url, headers=headers)\n",
    "        soup=BeautifulSoup(response.content, 'html.parser')\n",
    "        self.title=soup.title.string if soup.title else \"No title Found\"\n",
    "        for irrelevant in soup.body([\"scrtipt\", \"style\", \"img\", \"input\"]):\n",
    "            irrelevant.decompose()\n",
    "        self.text=soup.body.get_text(separator='\\n', strip=True) \n",
    "        \n",
    "        \n",
    "        "
   ]
  },
  {
   "cell_type": "code",
   "execution_count": 38,
   "id": "b5cdb4a9-20ac-486c-93a8-2ff8728fc0e9",
   "metadata": {},
   "outputs": [],
   "source": [
    "web=Website(\"https://htmlcolorcodes.com/\")"
   ]
  },
  {
   "cell_type": "code",
   "execution_count": 24,
   "id": "25ec5da3-4178-4a0d-b6cd-f1932932acb0",
   "metadata": {},
   "outputs": [
    {
     "name": "stdout",
     "output_type": "stream",
     "text": [
      "HTML Color Codes\n"
     ]
    }
   ],
   "source": [
    "print(web.title)"
   ]
  },
  {
   "cell_type": "code",
   "execution_count": 25,
   "id": "ec784b58-59e0-4286-b282-daf8ee20563c",
   "metadata": {},
   "outputs": [
    {
     "name": "stdout",
     "output_type": "stream",
     "text": [
      "HTML Color Codes\n",
      "Picker\n",
      "Convert\n",
      "RGB to Hex\n",
      "Hex to RGB\n",
      "Chart\n",
      "Names\n",
      "HTML Color Names\n",
      "Minecraft Color Codes\n",
      "Bukkit Color Codes\n",
      "Roblox Color Codes\n",
      "Library\n",
      "Tutorials\n",
      "Resources\n",
      "Font Generator\n",
      "Picker\n",
      "Convert\n",
      "RGB to Hex\n",
      "Hex to RGB\n",
      "Chart\n",
      "Names\n",
      "HTML\n",
      "Minecraft\n",
      "Bukkit\n",
      "Roblox\n",
      "Library\n",
      "Tutorials\n",
      "Resources\n",
      "Dixon & Moe\n",
      "Email\n",
      "HTML Color Codes\n",
      "Get HTML color codes, Hex color codes, RGB and HSL values with our color picker, color chart and HTML color names. Let's go!\n",
      "HEX\n",
      "#FF5733\n",
      "RGB\n",
      "255, 87, 51\n",
      "HSL\n",
      "11, 80%, 60%\n",
      "Export palette\n",
      "Color Picker\n",
      "Find that perfect color with our\n",
      "color picker\n",
      "and discover beautiful color harmonies, tints, shades and tones; input Hex color codes, RGB and HSL values, and generate HTML, CSS and SCSS styles.\n",
      "Take it for a spin!\n",
      "Color Chart\n",
      "Looking for some already great color combinations? Our\n",
      "color chart\n",
      "features flat design colors, Google's Material design scheme and the classic web safe color palette, all with Hex color codes.\n",
      "See all the charts!\n",
      "IndianRed\n",
      "#CD5C5C\n",
      "rgb(205, 92, 92)\n",
      "LightCoral\n",
      "#F08080\n",
      "rgb(240, 128, 128)\n",
      "Salmon\n",
      "#FA8072\n",
      "rgb(250, 128, 114)\n",
      "DarkSalmon\n",
      "#E9967A\n",
      "rgb(233, 150, 122)\n",
      "LightSalmon\n",
      "#FFA07A\n",
      "rgb(255, 160, 122)\n",
      "Color Names\n",
      "Can't remember all 140 HTML color names? We've got you covered, check out our\n",
      "guide\n",
      "for a quick reference of all the HTML color names grouped by color.\n",
      "Browse the full list!\n",
      "#DFFF00\n",
      "223, 255, 0\n",
      "#FFBF00\n",
      "255, 191, 0\n",
      "#FF7F50\n",
      "255, 127, 80\n",
      "#DE3163\n",
      "222, 49, 99\n",
      "#9FE2BF\n",
      "159, 226, 191\n",
      "#40E0D0\n",
      "64, 224, 208\n",
      "#6495ED\n",
      "100, 149, 237\n",
      "#CCCCFF\n",
      "204, 204, 255\n",
      "Color Library\n",
      "Sourcing colors for a new project? Just for fun? Get inspired by our\n",
      "color library\n",
      "containing over 100+ shades from peach to periwinkle, turquoise to taupe, and just about everything in-between.\n",
      "Explore the Library!\n",
      "HTML & CSS Tutorials\n",
      "Just starting your website or need a refresher? Our\n",
      "tutorials\n",
      "section has something for everyone, from basic HTML and CSS color guides to more advanced techniques in SCSS.\n",
      "Start learning!\n",
      "Resources\n",
      "Our favorite tools and tricks from around the web, including the best\n",
      "color palette generators\n",
      ",\n",
      "free stock photo sites\n",
      ",\n",
      "image search using color\n",
      ", and so much more.\n",
      "See the guides!\n",
      "What are HTML color codes?\n",
      "Color codes are ways of representing the colors we see everyday in a format that a computer can interpret and display. Commonly used in websites and other software applications, there are a variety of formats, including Hex color codes, RGB and HSL values, and HTML color names, amongst others.\n",
      "Hex color codes\n",
      "The most popular are Hex color codes; three byte hexadecimal numbers (meaning they consist of six digits), with each byte, or pair of characters in the Hex code, representing the intensity of red, green and blue in the color respectively.\n",
      "#\n",
      "XX\n",
      "XX\n",
      "XX\n",
      "Hex code byte values range from 00, which is the lowest intensity of a color, to FF which represents the highest intensity. The color white, for example, is made by mixing each of the three primary colors at their full intensity, resulting in the Hex color code of #FFFFFF.\n",
      "#FFFFFF\n",
      "Black, the absence of any color on a screen display, is the complete opposite, with each color displayed at their lowest possible intensity and a Hex color code of #000000.\n",
      "#000000\n",
      "Understanding the basics of Hex color code notation we can create grayscale colors very easily, since they consist of equal intensities of each color:\n",
      "#454545\n",
      "#999999\n",
      "The three primary colors, red, green and blue, are made by mixing the highest intensity of the desired color with the lowest intensities of the other two:\n",
      "#FF0000\n",
      "#00FF00\n",
      "#0000FF\n",
      "With modern browsers supporting the full spectrum of 24-bit color, there are 16,777,216 different color possibilities. Use our\n",
      "color picker\n",
      "to explore all 16.7 million of them, or if that’s too many, check out our\n",
      "color charts\n",
      "for a selection of palettes focused on flat design, Material design and web safe colors.\n",
      "List of common HTML color codes\n",
      "Color\n",
      "Name\n",
      "Hex Code\n",
      "RGB Code\n",
      "White\n",
      "#FFFFFF\n",
      "rgb(255, 255, 255)\n",
      "Silver\n",
      "#C0C0C0\n",
      "rgb(192, 192, 192)\n",
      "Gray\n",
      "#808080\n",
      "rgb(128, 128, 128)\n",
      "Black\n",
      "#000000\n",
      "rgb(0, 0, 0)\n",
      "Red\n",
      "#FF0000\n",
      "rgb(255, 0, 0)\n",
      "Maroon\n",
      "#800000\n",
      "rgb(128, 0, 0)\n",
      "Yellow\n",
      "#FFFF00\n",
      "rgb(255, 255, 0)\n",
      "Olive\n",
      "#808000\n",
      "rgb(128, 128, 0)\n",
      "Lime\n",
      "#00FF00\n",
      "rgb(0, 255, 0)\n",
      "Green\n",
      "#008000\n",
      "rgb(0, 128, 0)\n",
      "Aqua\n",
      "#00FFFF\n",
      "rgb(0, 255, 255)\n",
      "Teal\n",
      "#008080\n",
      "rgb(0, 128, 128)\n",
      "Blue\n",
      "#0000FF\n",
      "rgb(0, 0, 255)\n",
      "Navy\n",
      "#000080\n",
      "rgb(0, 0, 128)\n",
      "Fuchsia\n",
      "#FF00FF\n",
      "rgb(255, 0, 255)\n",
      "Purple\n",
      "#800080\n",
      "rgb(128, 0, 128)\n",
      "Share HTML Color Codes with your friends!\n",
      "Tweet\n",
      "Post\n",
      "Share\n",
      "Pin\n",
      "Picker\n",
      "Colors and Harmonies\n",
      "Chart\n",
      "Flat, Material, Web Safe\n",
      "Names\n",
      "140 named HTML Colors\n",
      "Library\n",
      "Explore 100+ Colors\n",
      "Tutorials\n",
      "HTML, CSS and SCSS\n",
      "Resources\n",
      "Color Tips and Tricks\n",
      "HTML Color Codes\n",
      "English\n",
      "English\n",
      "Español\n",
      "Français\n",
      "中国\n",
      "Designed By\n",
      "Dixon & Moe\n",
      "© 2015 – 2024\n",
      "Privacy Policy\n",
      "Privacy Manager\n",
      "Contact\n",
      "Email\n",
      "Socialize\n",
      "Google\n",
      "+\n",
      "Facebook\n",
      "CodePen\n",
      "About\n",
      "We built HTML Color Codes because we believe tools for design should be well designed themselves.  If you like the site or have a suggestion,\n",
      "drop us a line\n",
      "; feedback is very much appreciated and always welcome!\n",
      "Partner Sites\n",
      "Lorem Ipsum\n",
      "Word Counter\n",
      "Glyphy\n",
      "Colophon\n",
      "Middleman\n",
      "Highlight.js\n",
      "ColorJoe.js\n",
      "ColorHarmony.js\n"
     ]
    }
   ],
   "source": [
    "print(web.text)"
   ]
  },
  {
   "cell_type": "code",
   "execution_count": 26,
   "id": "1386841c-eec2-4e2a-8172-eb92043d2999",
   "metadata": {},
   "outputs": [],
   "source": [
    "# defining system_prompt\n",
    "\n",
    "system_prompt=\"You are an assistant that analyzes contents of a website; \\\n",
    "and privides a summary, ignore the content related to navigation, \\\n",
    "provide responses in the markdown\""
   ]
  },
  {
   "cell_type": "code",
   "execution_count": 34,
   "id": "0e208d8a-a724-4bc4-8aee-101232408cac",
   "metadata": {},
   "outputs": [],
   "source": [
    "def user_prompt(website):\n",
    "    user_prompt=f\"You are exploring a website titled {website.title}\"\n",
    "    user_prompt+=\" please provide a short summary of the website\\\n",
    "    If website includes news or announcements, summarize that too \\n\\n \"\n",
    "    user_prompt+=website.text\n",
    "    return user_prompt"
   ]
  },
  {
   "cell_type": "code",
   "execution_count": 27,
   "id": "84dfcf50-0e78-45e2-825d-45f4fc1c3cdd",
   "metadata": {},
   "outputs": [
    {
     "data": {
      "text/plain": [
       "'You are an assistant that analyzes contents of a website; and privides a summary, ignore the content related to navigation, provide responses in the markdown'"
      ]
     },
     "execution_count": 27,
     "metadata": {},
     "output_type": "execute_result"
    }
   ],
   "source": [
    "system_prompt"
   ]
  },
  {
   "cell_type": "code",
   "execution_count": null,
   "id": "bfca3013-c2f3-4a0f-a524-2337cd9493f6",
   "metadata": {},
   "outputs": [],
   "source": [
    "def messages_for(website):\n",
    "    messages=[\n",
    "        {\"role\":\"system\", \"content\": system_prompt},\n",
    "        {\"role\":\"user\", \"content\":user_prompt(website)}\n",
    "    ]"
   ]
  },
  {
   "cell_type": "code",
   "execution_count": 52,
   "id": "73015036-648f-400e-a270-38017e0f6a3e",
   "metadata": {},
   "outputs": [],
   "source": [
    "def messages_for(website):\n",
    "   return[\n",
    "        {\"role\":\"system\", \"content\": system_prompt},\n",
    "        {\"role\":\"user\", \"content\":user_prompt(website)}\n",
    "    ]\n",
    "    \n",
    "    "
   ]
  },
  {
   "cell_type": "code",
   "execution_count": 53,
   "id": "e07cc919-4aed-4ade-a7b1-163006446906",
   "metadata": {},
   "outputs": [
    {
     "data": {
      "text/plain": [
       "[{'role': 'system',\n",
       "  'content': 'You are an assistant that analyzes contents of a website; and privides a summary, ignore the content related to navigation, provide responses in the markdown'},\n",
       " {'role': 'user',\n",
       "  'content': \"You are exploring a website titled HTML Color Codes please provide a short summary of the website    If website includes news or announcements, summarize that too \\n\\n HTML Color Codes\\nPicker\\nConvert\\nRGB to Hex\\nHex to RGB\\nChart\\nNames\\nHTML Color Names\\nMinecraft Color Codes\\nBukkit Color Codes\\nRoblox Color Codes\\nLibrary\\nTutorials\\nResources\\nFont Generator\\nPicker\\nConvert\\nRGB to Hex\\nHex to RGB\\nChart\\nNames\\nHTML\\nMinecraft\\nBukkit\\nRoblox\\nLibrary\\nTutorials\\nResources\\nDixon & Moe\\nEmail\\nHTML Color Codes\\nGet HTML color codes, Hex color codes, RGB and HSL values with our color picker, color chart and HTML color names. Let's go!\\nHEX\\n#FF5733\\nRGB\\n255, 87, 51\\nHSL\\n11, 80%, 60%\\nExport palette\\nColor Picker\\nFind that perfect color with our\\ncolor picker\\nand discover beautiful color harmonies, tints, shades and tones; input Hex color codes, RGB and HSL values, and generate HTML, CSS and SCSS styles.\\nTake it for a spin!\\nColor Chart\\nLooking for some already great color combinations? Our\\ncolor chart\\nfeatures flat design colors, Google's Material design scheme and the classic web safe color palette, all with Hex color codes.\\nSee all the charts!\\nIndianRed\\n#CD5C5C\\nrgb(205, 92, 92)\\nLightCoral\\n#F08080\\nrgb(240, 128, 128)\\nSalmon\\n#FA8072\\nrgb(250, 128, 114)\\nDarkSalmon\\n#E9967A\\nrgb(233, 150, 122)\\nLightSalmon\\n#FFA07A\\nrgb(255, 160, 122)\\nColor Names\\nCan't remember all 140 HTML color names? We've got you covered, check out our\\nguide\\nfor a quick reference of all the HTML color names grouped by color.\\nBrowse the full list!\\n#DFFF00\\n223, 255, 0\\n#FFBF00\\n255, 191, 0\\n#FF7F50\\n255, 127, 80\\n#DE3163\\n222, 49, 99\\n#9FE2BF\\n159, 226, 191\\n#40E0D0\\n64, 224, 208\\n#6495ED\\n100, 149, 237\\n#CCCCFF\\n204, 204, 255\\nColor Library\\nSourcing colors for a new project? Just for fun? Get inspired by our\\ncolor library\\ncontaining over 100+ shades from peach to periwinkle, turquoise to taupe, and just about everything in-between.\\nExplore the Library!\\nHTML & CSS Tutorials\\nJust starting your website or need a refresher? Our\\ntutorials\\nsection has something for everyone, from basic HTML and CSS color guides to more advanced techniques in SCSS.\\nStart learning!\\nResources\\nOur favorite tools and tricks from around the web, including the best\\ncolor palette generators\\n,\\nfree stock photo sites\\n,\\nimage search using color\\n, and so much more.\\nSee the guides!\\nWhat are HTML color codes?\\nColor codes are ways of representing the colors we see everyday in a format that a computer can interpret and display. Commonly used in websites and other software applications, there are a variety of formats, including Hex color codes, RGB and HSL values, and HTML color names, amongst others.\\nHex color codes\\nThe most popular are Hex color codes; three byte hexadecimal numbers (meaning they consist of six digits), with each byte, or pair of characters in the Hex code, representing the intensity of red, green and blue in the color respectively.\\n#\\nXX\\nXX\\nXX\\nHex code byte values range from 00, which is the lowest intensity of a color, to FF which represents the highest intensity. The color white, for example, is made by mixing each of the three primary colors at their full intensity, resulting in the Hex color code of #FFFFFF.\\n#FFFFFF\\nBlack, the absence of any color on a screen display, is the complete opposite, with each color displayed at their lowest possible intensity and a Hex color code of #000000.\\n#000000\\nUnderstanding the basics of Hex color code notation we can create grayscale colors very easily, since they consist of equal intensities of each color:\\n#454545\\n#999999\\nThe three primary colors, red, green and blue, are made by mixing the highest intensity of the desired color with the lowest intensities of the other two:\\n#FF0000\\n#00FF00\\n#0000FF\\nWith modern browsers supporting the full spectrum of 24-bit color, there are 16,777,216 different color possibilities. Use our\\ncolor picker\\nto explore all 16.7 million of them, or if that’s too many, check out our\\ncolor charts\\nfor a selection of palettes focused on flat design, Material design and web safe colors.\\nList of common HTML color codes\\nColor\\nName\\nHex Code\\nRGB Code\\nWhite\\n#FFFFFF\\nrgb(255, 255, 255)\\nSilver\\n#C0C0C0\\nrgb(192, 192, 192)\\nGray\\n#808080\\nrgb(128, 128, 128)\\nBlack\\n#000000\\nrgb(0, 0, 0)\\nRed\\n#FF0000\\nrgb(255, 0, 0)\\nMaroon\\n#800000\\nrgb(128, 0, 0)\\nYellow\\n#FFFF00\\nrgb(255, 255, 0)\\nOlive\\n#808000\\nrgb(128, 128, 0)\\nLime\\n#00FF00\\nrgb(0, 255, 0)\\nGreen\\n#008000\\nrgb(0, 128, 0)\\nAqua\\n#00FFFF\\nrgb(0, 255, 255)\\nTeal\\n#008080\\nrgb(0, 128, 128)\\nBlue\\n#0000FF\\nrgb(0, 0, 255)\\nNavy\\n#000080\\nrgb(0, 0, 128)\\nFuchsia\\n#FF00FF\\nrgb(255, 0, 255)\\nPurple\\n#800080\\nrgb(128, 0, 128)\\nShare HTML Color Codes with your friends!\\nTweet\\nPost\\nShare\\nPin\\nPicker\\nColors and Harmonies\\nChart\\nFlat, Material, Web Safe\\nNames\\n140 named HTML Colors\\nLibrary\\nExplore 100+ Colors\\nTutorials\\nHTML, CSS and SCSS\\nResources\\nColor Tips and Tricks\\nHTML Color Codes\\nEnglish\\nEnglish\\nEspañol\\nFrançais\\n中国\\nDesigned By\\nDixon & Moe\\n© 2015 – 2024\\nPrivacy Policy\\nPrivacy Manager\\nContact\\nEmail\\nSocialize\\nGoogle\\n+\\nFacebook\\nCodePen\\nAbout\\nWe built HTML Color Codes because we believe tools for design should be well designed themselves.  If you like the site or have a suggestion,\\ndrop us a line\\n; feedback is very much appreciated and always welcome!\\nPartner Sites\\nLorem Ipsum\\nWord Counter\\nGlyphy\\nColophon\\nMiddleman\\nHighlight.js\\nColorJoe.js\\nColorHarmony.js\"}]"
      ]
     },
     "execution_count": 53,
     "metadata": {},
     "output_type": "execute_result"
    }
   ],
   "source": [
    "messages_for(web)"
   ]
  },
  {
   "cell_type": "code",
   "execution_count": 62,
   "id": "8888e9f7-7b24-49a8-bc89-5d08f4c2081b",
   "metadata": {},
   "outputs": [],
   "source": [
    "# Function to pass the url to OpenAi and retrieve responses.\n",
    "\n",
    "def summarize(url):\n",
    "    website=Website(url)\n",
    "    response=openai.chat.completions.create(\n",
    "        model=\"gpt-4o-mini\",\n",
    "        messages=messages_for(website)\n",
    "    )\n",
    "    return response.choices[0].message.content"
   ]
  },
  {
   "cell_type": "code",
   "execution_count": 55,
   "id": "25fe9c81-38b5-41fc-a82e-eae0edd4561f",
   "metadata": {},
   "outputs": [
    {
     "data": {
      "text/plain": [
       "'## Summary of HTML Color Codes Website\\n\\nThe **HTML Color Codes** website offers a comprehensive suite of tools and resources for web designers and developers focused on color management. Key features include:\\n\\n- **Color Picker**: Users can select colors and generate HTML, CSS, or SCSS styles from different formats such as Hex, RGB, and HSL.\\n- **Color Chart**: A visual display of various color combinations, including flat design colors, Google’s Material design palette, and classic web-safe colors.\\n- **HTML Color Names**: A guide providing a quick reference to over 140 named colors in HTML.\\n- **Color Library**: A collection of more than 100 shades for inspiration in design projects.\\n- **Tutorials**: Educational resources covering basic to advanced HTML and CSS techniques related to color.\\n\\nThe website aims to assist users, whether novices or experienced professionals, in mastering color codes, enhancing design accuracy and creativity.\\n\\n### News or Announcements\\nThe content does not mention any specific news or announcements. It focuses mainly on the tools and educational materials available on the website.'"
      ]
     },
     "execution_count": 55,
     "metadata": {},
     "output_type": "execute_result"
    }
   ],
   "source": [
    "summarize(\"https://htmlcolorcodes.com/\")"
   ]
  },
  {
   "cell_type": "code",
   "execution_count": 56,
   "id": "457540b8-6a9f-4f56-af80-af761af7eb57",
   "metadata": {},
   "outputs": [],
   "source": [
    "# A function to display this nicely in the Jupyter output, using markdown\n",
    "def display_summary(url):\n",
    "    summary=summarize(url)\n",
    "    display(Markdown(summary))\n",
    "    "
   ]
  },
  {
   "cell_type": "code",
   "execution_count": 59,
   "id": "e7b5a665-392b-4b99-95fe-763a04822fca",
   "metadata": {},
   "outputs": [
    {
     "data": {
      "text/markdown": [
       "# HTML Color Codes Summary\n",
       "\n",
       "HTML Color Codes is a comprehensive resource for finding and utilizing color codes in web design. It offers several tools and features:\n",
       "\n",
       "- **Color Picker**: Users can select colors and explore various tonalities and harmonies, while generating corresponding Hex, RGB, and HSL values.\n",
       "- **Color Charts**: The website includes a chart featuring flat design colors, Google's Material Design, and the traditional web safe palette.\n",
       "- **HTML Color Names**: A guide is provided for quick reference to over 140 HTML color names, grouped by color.\n",
       "- **Color Library**: An extensive library consists of over 100 shades, providing inspiration for design projects.\n",
       "- **Tutorials**: It features tutorials which cater to beginners and advanced users covering HTML, CSS, and SCSS.\n",
       "- **Resources**: A collection of helpful tools, such as color palette generators and stock photo sites.\n",
       "\n",
       "The site emphasizes the usability of various color codes in web design, explaining the basics of Hex codes, RGB, and HSL notations, while allowing users to export their chosen palettes. \n",
       "\n",
       "Overall, HTML Color Codes serves as a valuable tool for both novice and experienced web designers seeking to effectively use color in their projects."
      ],
      "text/plain": [
       "<IPython.core.display.Markdown object>"
      ]
     },
     "metadata": {},
     "output_type": "display_data"
    }
   ],
   "source": [
    "display_summary(\"https://htmlcolorcodes.com/\")"
   ]
  },
  {
   "cell_type": "code",
   "execution_count": null,
   "id": "26575439-1da9-4211-8823-54cbf8774ba5",
   "metadata": {},
   "outputs": [],
   "source": []
  },
  {
   "cell_type": "markdown",
   "id": "6bc90604-6ceb-44bf-aad4-41bbd387ec1b",
   "metadata": {},
   "source": [
    "#### Extending the work to read job descriptions and highlight the key technologies"
   ]
  },
  {
   "cell_type": "code",
   "execution_count": 63,
   "id": "7df85a37-33b6-4053-91e4-5dea197935e1",
   "metadata": {},
   "outputs": [],
   "source": [
    "# Step 1: Creating prompts\n",
    "\n",
    "system_prompt=\" You are an assistant who is an expert in reading Job descriptions;\\\n",
    "please help to listout the key technologies from the Job description provided\""
   ]
  },
  {
   "cell_type": "code",
   "execution_count": 81,
   "id": "f5d12980-bc42-49a9-96d2-da11de3e1087",
   "metadata": {},
   "outputs": [],
   "source": [
    "JD='''Job Description of Python Fullstack LLM Langchain Developer \n",
    "Title: Python Fullstack LLM Langchain Developer\n",
    "Location: Bangalore/Hyderabad/Pune\n",
    "Job Description:\n",
    "\n",
    "Position/ TITLE: Senior Python and LLM Developer\n",
    "\n",
    "Location: Offshore – Hyderabad/Bangalore/Pune\n",
    "Who are we looking For:\n",
    "We are on the lookout for a Python Developer with specialized skills in AI, ML, and NLP to enhance our team's capabilities. The ideal candidate will\n",
    "minimum 6-8 years of experience deeply entrenched in Python development and possess a strong foundation in artificial intelligence, machine\n",
    "learning, and natural language processing techniques. This role involves designing and implementing sophisticated software solutions that are\n",
    "efficient, scalable, and lead the way in innovation.\n",
    "Technical Skills – Must Have\n",
    "• Develop and deploy advanced AI/ML models and NLP algorithms within our software solutions, using Python and Langchain.\n",
    "• Collaborate with cross-functional teams to understand project requirements, design AI/ML-driven features, and integrate NLP capabilities into\n",
    "our products.\n",
    "• Maintain and improve the performance of existing AI/ML models and NLP solutions.\n",
    "• Work closely with data scientists and engineers to leverage data, identify new opportunities for AI/ML applications, and enhance natural\n",
    "language understanding and processing capabilities.\n",
    "• Design, develop, and maintain robust and scalable back-end APIs using Python and relevant frameworks.\n",
    "• Integrate with various databases and third-party APIs for data access and functionality.\n",
    "• Ensure code quality, sustainability, and scalability by adhering to best practices and participating in code reviews.\n",
    "• Contribute to CI/CD pipelines for automated deployments and testing using Kubernetes.\n",
    "• Exposure to GCP - AI services (vertex AI, etc.), Azure - AI services, Aws- AI services, MLops, NLP.\n",
    "• Stay abreast of developments in AI, ML, and NLP fields to ensure our solutions remain cutting-edge.\n",
    "Technical Skills - Good to have\n",
    "• Knowledge of additional languages like Java, C#, or Javascript is a plus.\n",
    "Preferred Qualifications:\n",
    "• Bachelors or Masters degree in Computer Science, Artificial Intelligence, or a related field.\n",
    "• A portfolio showcasing AI/ML and NLP projects'''"
   ]
  },
  {
   "cell_type": "code",
   "execution_count": 70,
   "id": "263093f6-efad-443b-a061-348b62c0e8f7",
   "metadata": {},
   "outputs": [],
   "source": [
    "def user_prompt(text):\n",
    "    user_prompt=f\"You are analyzing a job description: {text}\"\n",
    "    user_prompt+= \"Read the job description and highlight the key technical skiils required \\n\"\n",
    "    user_prompt+=text\n",
    "\n",
    "    return user_prompt\n",
    "    "
   ]
  },
  {
   "cell_type": "code",
   "execution_count": 82,
   "id": "33d7c3b5-39b9-4a9c-868f-072e91bee73a",
   "metadata": {},
   "outputs": [
    {
     "data": {
      "text/plain": [
       "\"You are analyzing a job description: Job Description of Python Fullstack LLM Langchain Developer \\nTitle: Python Fullstack LLM Langchain Developer\\nLocation: Bangalore/Hyderabad/Pune\\nJob Description:\\n\\nPosition/ TITLE: Senior Python and LLM Developer\\n\\nLocation: Offshore – Hyderabad/Bangalore/Pune\\nWho are we looking For:\\nWe are on the lookout for a Python Developer with specialized skills in AI, ML, and NLP to enhance our team's capabilities. The ideal candidate will\\nminimum 6-8 years of experience deeply entrenched in Python development and possess a strong foundation in artificial intelligence, machine\\nlearning, and natural language processing techniques. This role involves designing and implementing sophisticated software solutions that are\\nefficient, scalable, and lead the way in innovation.\\nTechnical Skills – Must Have\\n• Develop and deploy advanced AI/ML models and NLP algorithms within our software solutions, using Python and Langchain.\\n• Collaborate with cross-functional teams to understand project requirements, design AI/ML-driven features, and integrate NLP capabilities into\\nour products.\\n• Maintain and improve the performance of existing AI/ML models and NLP solutions.\\n• Work closely with data scientists and engineers to leverage data, identify new opportunities for AI/ML applications, and enhance natural\\nlanguage understanding and processing capabilities.\\n• Design, develop, and maintain robust and scalable back-end APIs using Python and relevant frameworks.\\n• Integrate with various databases and third-party APIs for data access and functionality.\\n• Ensure code quality, sustainability, and scalability by adhering to best practices and participating in code reviews.\\n• Contribute to CI/CD pipelines for automated deployments and testing using Kubernetes.\\n• Exposure to GCP - AI services (vertex AI, etc.), Azure - AI services, Aws- AI services, MLops, NLP.\\n• Stay abreast of developments in AI, ML, and NLP fields to ensure our solutions remain cutting-edge.\\nTechnical Skills - Good to have\\n• Knowledge of additional languages like Java, C#, or Javascript is a plus.\\nPreferred Qualifications:\\n• Bachelors or Masters degree in Computer Science, Artificial Intelligence, or a related field.\\n• A portfolio showcasing AI/ML and NLP projectsRead the job description and highlight the key technical skiils required \\nJob Description of Python Fullstack LLM Langchain Developer \\nTitle: Python Fullstack LLM Langchain Developer\\nLocation: Bangalore/Hyderabad/Pune\\nJob Description:\\n\\nPosition/ TITLE: Senior Python and LLM Developer\\n\\nLocation: Offshore – Hyderabad/Bangalore/Pune\\nWho are we looking For:\\nWe are on the lookout for a Python Developer with specialized skills in AI, ML, and NLP to enhance our team's capabilities. The ideal candidate will\\nminimum 6-8 years of experience deeply entrenched in Python development and possess a strong foundation in artificial intelligence, machine\\nlearning, and natural language processing techniques. This role involves designing and implementing sophisticated software solutions that are\\nefficient, scalable, and lead the way in innovation.\\nTechnical Skills – Must Have\\n• Develop and deploy advanced AI/ML models and NLP algorithms within our software solutions, using Python and Langchain.\\n• Collaborate with cross-functional teams to understand project requirements, design AI/ML-driven features, and integrate NLP capabilities into\\nour products.\\n• Maintain and improve the performance of existing AI/ML models and NLP solutions.\\n• Work closely with data scientists and engineers to leverage data, identify new opportunities for AI/ML applications, and enhance natural\\nlanguage understanding and processing capabilities.\\n• Design, develop, and maintain robust and scalable back-end APIs using Python and relevant frameworks.\\n• Integrate with various databases and third-party APIs for data access and functionality.\\n• Ensure code quality, sustainability, and scalability by adhering to best practices and participating in code reviews.\\n• Contribute to CI/CD pipelines for automated deployments and testing using Kubernetes.\\n• Exposure to GCP - AI services (vertex AI, etc.), Azure - AI services, Aws- AI services, MLops, NLP.\\n• Stay abreast of developments in AI, ML, and NLP fields to ensure our solutions remain cutting-edge.\\nTechnical Skills - Good to have\\n• Knowledge of additional languages like Java, C#, or Javascript is a plus.\\nPreferred Qualifications:\\n• Bachelors or Masters degree in Computer Science, Artificial Intelligence, or a related field.\\n• A portfolio showcasing AI/ML and NLP projects\""
      ]
     },
     "execution_count": 82,
     "metadata": {},
     "output_type": "execute_result"
    }
   ],
   "source": [
    "user_prompt(JD)"
   ]
  },
  {
   "cell_type": "code",
   "execution_count": 72,
   "id": "ac8aed56-42b4-448b-a61c-302a4e558efc",
   "metadata": {},
   "outputs": [],
   "source": [
    "# Step 2: Make messages list\n",
    "\n",
    "def messages_for(text):\n",
    "    return [\n",
    "        {\"role\": 'system', \"content\": system_prompt},\n",
    "        {\"role\": 'user', \"content\": user_prompt(text)}\n",
    "    ]"
   ]
  },
  {
   "cell_type": "code",
   "execution_count": 77,
   "id": "3b909ba1-af2d-44e6-8e9a-5f729c1a9335",
   "metadata": {},
   "outputs": [],
   "source": [
    "# Step 3: Call Open AI\n",
    "\n",
    "def get_tech_skills(text):\n",
    "    response= openai.chat.completions.create(\n",
    "        model=\"gpt-4o-mini\",\n",
    "        messages=messages_for(text)\n",
    "    )\n",
    "    return response.choices[0].message.content"
   ]
  },
  {
   "cell_type": "code",
   "execution_count": 83,
   "id": "fd8fffb4-7979-4654-9b62-3a5762c6f657",
   "metadata": {},
   "outputs": [
    {
     "data": {
      "text/plain": [
       "'Based on the provided job description for the position of \"Python Fullstack LLM Langchain Developer,\" here are the key technologies and relevant skills highlighted:\\n\\n### Must-Have Technical Skills\\n1. **Programming Languages:**\\n   - Python\\n   - Knowledge of additional languages (Java, C#, Javascript) - good to have\\n\\n2. **AI and Machine Learning Technologies:**\\n   - Advanced AI/ML model development and deployment\\n   - Natural Language Processing (NLP) algorithms\\n\\n3. **Frameworks and Libraries:**\\n   - Langchain\\n   - Relevant frameworks for API development (specific frameworks not mentioned)\\n\\n4. **Database and API Integration:**\\n   - Experience integrating with various databases\\n   - Experience with third-party APIs\\n\\n5. **Development Practices:**\\n   - Code quality, sustainability, and scalability best practices\\n   - Participation in code reviews\\n\\n6. **CI/CD Tools:**\\n   - Kubernetes for automated deployments and testing\\n\\n7. **Cloud Platforms and AI Services:**\\n   - Google Cloud Platform (GCP) - AI services (Vertex AI, etc.)\\n   - Microsoft Azure - AI services\\n   - Amazon Web Services (AWS) - AI services\\n   - MLops knowledge\\n\\n### Additional Skills (Good to Have)\\n- Knowledge of Java, C#, or JavaScript\\n\\n### Key Focus Areas\\n- Collaboration with cross-functional teams\\n- Designing and implementing AI/ML-driven features\\n- Enhancing natural language understanding and processing capabilities\\n- Staying updated with advancements in AI, ML, and NLP fields\\n\\nThese technologies and skills will be crucial for a candidate to meet the requirements of this role effectively.'"
      ]
     },
     "execution_count": 83,
     "metadata": {},
     "output_type": "execute_result"
    }
   ],
   "source": [
    "# Step 4: Print the result\n",
    "\n",
    "get_tech_skills(JD)"
   ]
  },
  {
   "cell_type": "code",
   "execution_count": 79,
   "id": "33397cf9-b672-4823-80ec-ac76f3078f4d",
   "metadata": {},
   "outputs": [],
   "source": [
    "def get_tech_skills_refined(text):\n",
    "    summary=get_tech_skills(text)\n",
    "    display(Markdown(summary))"
   ]
  },
  {
   "cell_type": "code",
   "execution_count": 84,
   "id": "b5062e32-f588-4a20-a3ac-4db44cc701b1",
   "metadata": {},
   "outputs": [
    {
     "data": {
      "text/markdown": [
       "Based on the job description provided, the key technologies and technical skills required for the Python Fullstack LLM Langchain Developer position are:\n",
       "\n",
       "### Must Have Technologies:\n",
       "1. **Python** - Core programming language for development.\n",
       "2. **AI/ML** - Expertise in developing and deploying Artificial Intelligence and Machine Learning models.\n",
       "3. **NLP** - Proficiency in Natural Language Processing algorithms.\n",
       "4. **Langchain** - Specific framework used for software solutions involving LLM (Large Language Models).\n",
       "5. **Back-end API Development** - Experience in designing and maintaining robust and scalable APIs, likely using relevant Python frameworks.\n",
       "6. **Databases** - Knowledge in integrating various databases and third-party APIs.\n",
       "7. **CI/CD Pipelines** - Familiarity with continuous integration and continuous deployment practices.\n",
       "8. **Kubernetes** - Experience with orchestration for automated deployments and testing.\n",
       "\n",
       "### Exposure to Tools/Technologies:\n",
       "1. **GCP** (Google Cloud Platform) - Specifically AI services (such as Vertex AI).\n",
       "2. **Azure** - Familiarity with Azure AI services.\n",
       "3. **AWS** - Exposure to AWS AI services.\n",
       "4. **MLOps** - Understanding of practices for machine learning operations.\n",
       "5. **NLP Techniques** - Keeping updated with the latest in Natural Language Processing field.\n",
       "\n",
       "### Good to Have Technologies:\n",
       "1. **Additional Programming Languages** - Knowledge of other programming languages such as Java, C#, or JavaScript is beneficial.\n",
       "\n",
       "### Preferred Background:\n",
       "- A degree in Computer Science, Artificial Intelligence, or a related field.\n",
       "- A portfolio demonstrating practical experience in AI/ML and NLP projects.\n",
       "\n",
       "This outlines the primary technical skills and technologies that the candidate needs to be familiar with for the position."
      ],
      "text/plain": [
       "<IPython.core.display.Markdown object>"
      ]
     },
     "metadata": {},
     "output_type": "display_data"
    }
   ],
   "source": [
    "get_tech_skills_refined(JD)"
   ]
  },
  {
   "cell_type": "code",
   "execution_count": null,
   "id": "c25029bf-7354-4673-bac9-58ca8da69e1c",
   "metadata": {},
   "outputs": [],
   "source": []
  }
 ],
 "metadata": {
  "kernelspec": {
   "display_name": "Python 3 (ipykernel)",
   "language": "python",
   "name": "python3"
  },
  "language_info": {
   "codemirror_mode": {
    "name": "ipython",
    "version": 3
   },
   "file_extension": ".py",
   "mimetype": "text/x-python",
   "name": "python",
   "nbconvert_exporter": "python",
   "pygments_lexer": "ipython3",
   "version": "3.11.0"
  }
 },
 "nbformat": 4,
 "nbformat_minor": 5
}
